{
 "cells": [
  {
   "cell_type": "markdown",
   "metadata": {},
   "source": [
    "# TSP LP by cvxpy \n",
    "cvxpy: https://www.cvxpy.org/  \n",
    "reference: https://gist.github.com/AshNguyen/3bbaef5203f574cc5a2bad255ca59069"
   ]
  },
  {
   "cell_type": "code",
   "execution_count": 10,
   "metadata": {
    "ExecuteTime": {
     "end_time": "2019-06-06T06:03:36.086163Z",
     "start_time": "2019-06-06T06:03:36.078180Z"
    }
   },
   "outputs": [
    {
     "name": "stdout",
     "output_type": "stream",
     "text": [
      "solvers: ['ECOS', 'ECOS_BB', 'CVXOPT', 'GLPK', 'GLPK_MI', 'SCS', 'CPLEX', 'OSQP', 'CPLEX']\n"
     ]
    }
   ],
   "source": [
    "import cvxpy as cvx\n",
    "import numpy as np\n",
    "import matplotlib.pyplot as plt\n",
    "%matplotlib inline\n",
    "print('solvers:', cvx.installed_solvers())"
   ]
  },
  {
   "cell_type": "code",
   "execution_count": 11,
   "metadata": {
    "ExecuteTime": {
     "end_time": "2019-06-06T06:03:40.519792Z",
     "start_time": "2019-06-06T06:03:40.510071Z"
    },
    "code_folding": [
     0,
     7
    ]
   },
   "outputs": [],
   "source": [
    "def gen_param(num):\n",
    "    path = list(range(num))\n",
    "    X = np.random.random(num)\n",
    "    Y = np.random.random(num)\n",
    "    XY = X + Y * 1j\n",
    "    return num, path, X, Y, XY\n",
    "\n",
    "def plot_path(path, edges=False, size=6):\n",
    "    plt.figure(figsize=(size, size))\n",
    "    cmap = plt.get_cmap(\"tab10\")\n",
    "    plt.axis([0,1,0,1], 'equal')\n",
    "    plt.plot(X[path], Y[path], alpha=0.0)\n",
    "    plt.scatter(X[0], Y[0], s=80, color='r', marker='o')\n",
    "    if path:\n",
    "        for i in range(len(path)-1):\n",
    "            plt.arrow(X[path[i]], Y[path[i]], \n",
    "                      X[path[i+1]]-X[path[i]], Y[path[i+1]]-Y[path[i]], \n",
    "                      head_width=0.02, head_length=0.02, length_includes_head=True, \n",
    "                      fc=cmap(0), ec=cmap(0))\n",
    "    if edges:\n",
    "        for e in edges:\n",
    "            plt.plot([X[e[0]], X[e[1]]], [Y[e[0]], Y[e[1]]])\n",
    "    \n",
    "    for i in range(num):\n",
    "        plt.text(X[i], Y[i]+0.01, s=i, fontsize=10, color='gray')"
   ]
  },
  {
   "cell_type": "code",
   "execution_count": 92,
   "metadata": {
    "ExecuteTime": {
     "end_time": "2019-06-06T06:48:21.176629Z",
     "start_time": "2019-06-06T06:48:21.170765Z"
    },
    "scrolled": true
   },
   "outputs": [],
   "source": [
    "# Generate parameters and Plot initial path\n",
    "num, path, X, Y, XY = gen_param(20) # the number of nodes\n",
    "\n",
    "dist = []\n",
    "for i in path:\n",
    "    dist.append([])\n",
    "    for j in path:\n",
    "        if i == j:\n",
    "            dist[i].append(100)\n",
    "        else:\n",
    "            dist[i].append(abs(XY[i] - XY[j]))\n",
    "\n",
    "#plot_path(path + [0])"
   ]
  },
  {
   "cell_type": "markdown",
   "metadata": {},
   "source": [
    "## LP with MTZ subtour elimination"
   ]
  },
  {
   "cell_type": "code",
   "execution_count": 93,
   "metadata": {
    "ExecuteTime": {
     "end_time": "2019-06-06T06:48:28.610644Z",
     "start_time": "2019-06-06T06:48:28.537756Z"
    }
   },
   "outputs": [],
   "source": [
    "x = cvx.Variable((num, num), boolean=True)\n",
    "\n",
    "# objective\n",
    "obj = cvx.Minimize(sum([dist[i][:] * x[:][i] for i in range(num)]))\n",
    "\n",
    "# constraints\n",
    "constraints = []\n",
    "for i in range(num):\n",
    "    constraints += [sum([x[i][j] for j in path if i != j]) == 1]\n",
    "    constraints += [sum([x[j][i] for j in path if i != j]) == 1]"
   ]
  },
  {
   "cell_type": "code",
   "execution_count": 96,
   "metadata": {
    "ExecuteTime": {
     "end_time": "2019-06-06T06:49:57.888582Z",
     "start_time": "2019-06-06T06:49:41.878769Z"
    },
    "code_folding": []
   },
   "outputs": [],
   "source": [
    "# MTZ subtour elimination\n",
    "u = cvx.Variable(num)\n",
    "\n",
    "for i in range(1, num):\n",
    "    for j in range(1, num):\n",
    "        if i != j:\n",
    "            constraints.append(u[i] - u[j] + num * x[i][j] <= num - 1)\n",
    "            \n",
    "for i in range(num):\n",
    "    constraints += [u[i] >= 0]\n",
    "    \n",
    "prob = cvx.Problem(obj, constraints)\n",
    "#opt = prob.solve(solver='GLPK_MI', verbose=False)\n",
    "opt = prob.solve(solver='GLPK_MI', verbose=False)\n",
    "#opt = prob.solve()"
   ]
  },
  {
   "cell_type": "code",
   "execution_count": 86,
   "metadata": {
    "ExecuteTime": {
     "end_time": "2019-06-06T06:29:59.166275Z",
     "start_time": "2019-06-06T06:29:59.162936Z"
    }
   },
   "outputs": [],
   "source": [
    "def subtour(x):\n",
    "    x_val = np.argmax(x.value, axis=1)\n",
    "    sub = [0]\n",
    "    while True:\n",
    "        v = x_val[sub[-1]]\n",
    "        if v not in sub:\n",
    "            sub.append(v)\n",
    "        else:\n",
    "            return sub"
   ]
  },
  {
   "cell_type": "code",
   "execution_count": 97,
   "metadata": {
    "ExecuteTime": {
     "end_time": "2019-06-06T06:50:02.760936Z",
     "start_time": "2019-06-06T06:50:02.566569Z"
    },
    "code_folding": [],
    "scrolled": false
   },
   "outputs": [
    {
     "name": "stdout",
     "output_type": "stream",
     "text": [
      "Optimal tour:  [0, 17, 2, 12, 3, 4, 11, 13, 5, 8, 18, 6, 9, 1, 15, 10, 14, 7, 16, 19, 0]\n",
      "CPU times: user 754 µs, sys: 7 µs, total: 761 µs\n",
      "Wall time: 1.17 ms\n",
      "Distance: 4.215058694570304\n"
     ]
    },
    {
     "data": {
      "image/png": "[encoded data removed]",
      "text/plain": [
       "<Figure size 432x432 with 1 Axes>"
      ]
     },
     "metadata": {
      "needs_background": "light"
     },
     "output_type": "display_data"
    }
   ],
   "source": [
    "# results\n",
    "T = subtour(x) + [0]\n",
    "%time print (\"Optimal tour: \", T)\n",
    "plot_path(T)\n",
    "tour_dist = sum([dist[T[i-1]][T[i]] for i in range(1, len(T))])\n",
    "print('Distance:', tour_dist)"
   ]
  },
  {
   "cell_type": "markdown",
   "metadata": {},
   "source": [
    "## LP subtour elimination with Lazy constraints"
   ]
  },
  {
   "cell_type": "code",
   "execution_count": 98,
   "metadata": {
    "ExecuteTime": {
     "end_time": "2019-06-06T06:50:26.259443Z",
     "start_time": "2019-06-06T06:50:08.969823Z"
    },
    "scrolled": false
   },
   "outputs": [
    {
     "name": "stdout",
     "output_type": "stream",
     "text": [
      "Try:  [0, 19] Nots: [1, 2, 3, 4, 5, 6, 7, 8, 9, 10, 11, 12, 13, 14, 15, 16, 17, 18]\n",
      "Try:  [0, 19, 16] Nots: [1, 2, 3, 4, 5, 6, 7, 8, 9, 10, 11, 12, 13, 14, 15, 17, 18]\n",
      "Try:  [0, 19, 16, 10] Nots: [1, 2, 3, 4, 5, 6, 7, 8, 9, 11, 12, 13, 14, 15, 17, 18]\n",
      "Try:  [0, 16, 18, 19] Nots: [1, 2, 3, 4, 5, 6, 7, 8, 9, 10, 11, 12, 13, 14, 15, 17]\n",
      "Try:  [0, 19, 18] Nots: [1, 2, 3, 4, 5, 6, 7, 8, 9, 10, 11, 12, 13, 14, 15, 16, 17]\n",
      "Try:  [0, 17, 2, 12, 3, 5, 8, 18, 19] Nots: [1, 4, 6, 7, 9, 10, 11, 13, 14, 15, 16]\n",
      "Try:  [0, 8, 5, 18, 19] Nots: [1, 2, 3, 4, 6, 7, 9, 10, 11, 12, 13, 14, 15, 16, 17]\n",
      "Try:  [0, 19, 18, 8, 5, 13, 11, 4, 3, 12, 2, 17] Nots: [1, 6, 7, 9, 10, 14, 15, 16]\n",
      "Try:  [0, 19, 8, 5, 18, 16] Nots: [1, 2, 3, 4, 6, 7, 9, 10, 11, 12, 13, 14, 15, 17]\n",
      "Try:  [0, 17, 2, 12, 3, 5, 8, 18, 16, 19] Nots: [1, 4, 6, 7, 9, 10, 11, 13, 14, 15]\n",
      "Try:  [0, 19, 16, 18, 8, 5, 13, 11, 4, 3, 12, 2, 17] Nots: [1, 6, 7, 9, 10, 14, 15]\n",
      "Try:  [0, 19, 18, 10, 16] Nots: [1, 2, 3, 4, 5, 6, 7, 8, 9, 11, 12, 13, 14, 15, 17]\n",
      "Try:  [0, 14, 7, 10, 16, 19] Nots: [1, 2, 3, 4, 5, 6, 8, 9, 11, 12, 13, 15, 17, 18]\n",
      "Try:  [0, 16, 10, 15, 1, 9, 6, 18, 19] Nots: [2, 3, 4, 5, 7, 8, 11, 12, 13, 14, 17]\n",
      "Try:  [0, 16, 10, 15, 1, 9, 6, 13, 11, 4, 3, 5, 8, 18, 19] Nots: [2, 7, 12, 14, 17]\n",
      "Try:  [0, 19, 16, 10, 18, 8, 5, 3, 12, 2, 17] Nots: [1, 4, 6, 7, 9, 11, 13, 14, 15]\n",
      "Try:  [0, 19, 16, 10, 15, 1, 9, 6, 13, 11, 4, 3, 12, 2, 17] Nots: [5, 7, 8, 14, 18]\n",
      "Try:  [0, 17, 2, 12, 3, 4, 11, 13, 5, 8, 18, 10, 16, 19] Nots: [1, 6, 7, 9, 14, 15]\n",
      "Try:  [0, 17, 2, 12, 3, 5, 8, 18, 6, 9, 1, 15, 10, 16, 19] Nots: [4, 7, 11, 13, 14]\n",
      "Try:  [0, 19, 16, 10, 15, 1, 9, 6, 18, 8, 5, 13, 11, 4, 3, 12, 2, 17] Nots: [7, 14]\n",
      "Try:  [0, 14, 7, 16, 19] Nots: [1, 2, 3, 4, 5, 6, 8, 9, 10, 11, 12, 13, 15, 17, 18]\n",
      "Try:  [0, 14, 7, 10, 16, 18, 19] Nots: [1, 2, 3, 4, 5, 6, 8, 9, 11, 12, 13, 15, 17]\n",
      "Try:  [0, 14, 7, 10, 15, 1, 9, 6, 16, 19] Nots: [2, 3, 4, 5, 8, 11, 12, 13, 17, 18]\n",
      "Try:  [0, 14, 7, 10, 16, 18, 5, 8, 19] Nots: [1, 2, 3, 4, 6, 9, 11, 12, 13, 15, 17]\n",
      "Try:  [0, 14, 7, 10, 16, 18, 8, 19] Nots: [1, 2, 3, 4, 5, 6, 9, 11, 12, 13, 15, 17]\n",
      "Try:  [0, 14, 7, 16, 18, 19] Nots: [1, 2, 3, 4, 5, 6, 8, 9, 10, 11, 12, 13, 15, 17]\n",
      "Try:  [0, 19, 16, 18, 6, 9, 1, 15, 10, 7, 14] Nots: [2, 3, 4, 5, 8, 11, 12, 13, 17]\n",
      "Try:  [0, 14, 7, 10, 15, 1, 9, 6, 13, 11, 4, 3, 5, 8, 18, 16, 19] Nots: [2, 12, 17]\n",
      "Try:  [0, 19, 14, 7, 10, 16, 18, 8, 5, 3, 12, 2, 17] Nots: [1, 4, 6, 9, 11, 13, 15]\n",
      "Try:  [0, 19, 14, 7, 10, 16, 18, 8, 5, 13, 11, 4, 3, 12, 2, 17] Nots: [1, 6, 9, 15]\n",
      "Try:  [0, 19, 16, 18, 8, 5, 13, 6, 9, 1, 15, 10, 7, 14] Nots: [2, 3, 4, 11, 12, 17]\n",
      "Try:  [0, 19, 8, 5, 18, 16, 7, 14] Nots: [1, 2, 3, 4, 6, 9, 10, 11, 12, 13, 15, 17]\n",
      "Try:  [0, 17, 2, 12, 3, 4, 11, 13, 6, 9, 1, 15, 10, 14, 7, 16, 19] Nots: [5, 8, 18]\n",
      "Try:  [0, 14, 7, 10, 15, 1, 9, 6, 5, 8, 18, 16, 19] Nots: [2, 3, 4, 11, 12, 13, 17]\n",
      "Try:  [0, 19, 16, 7, 14, 10, 15, 1, 9, 6, 18, 8, 5, 3, 12, 2, 17] Nots: [4, 11, 13]\n",
      "Optimal tour:  [0, 19, 16, 7, 14, 10, 15, 1, 9, 6, 18, 8, 5, 13, 11, 4, 3, 12, 2, 17, 0]\n",
      "Distance: 4.215058694570304\n"
     ]
    },
    {
     "data": {
      "image/png": "[encoded data removed]",
      "text/plain": [
       "<Figure size 432x432 with 1 Axes>"
      ]
     },
     "metadata": {
      "needs_background": "light"
     },
     "output_type": "display_data"
    }
   ],
   "source": [
    "x = cvx.Variable((num, num), boolean=True)\n",
    "\n",
    "# objective\n",
    "obj = cvx.Minimize(sum([dist[i][:] * x[:][i] for i in range(num)]))\n",
    "\n",
    "# basic constraints\n",
    "constraints = []\n",
    "for i in range(num):\n",
    "    constraints += [sum([x[i][j] for j in path if i != j]) == 1]\n",
    "    constraints += [sum([x[j][i] for j in path if i != j]) == 1]\n",
    "\n",
    "prob = cvx.Problem(obj, constraints)\n",
    "opt = prob.solve()\n",
    "\n",
    "# Lazy constraints subtour elimination\n",
    "while True:\n",
    "    sub = subtour(x)\n",
    "    if len(sub) == num:\n",
    "        print (\"Optimal tour: \", sub + [0])\n",
    "        break\n",
    "    else:\n",
    "        # Lazy constrains\n",
    "        nots = [j for j in range(num) if j not in sub]\n",
    "        print (\"Try: \", sub, 'Nots:', nots)\n",
    "        constraints += [sum(x[i][j] for i in sub for j in nots) >= 1]\n",
    "        prob = cvx.Problem(obj, constraints)\n",
    "        opt = prob.solve(solver='GLPK_MI', verbose=False)\n",
    "\n",
    "T = sub + [0]\n",
    "plot_path(T)\n",
    "td = sum([dist[T[i-1]][T[i]] for i in range(1, len(T))])\n",
    "print('Distance:', td)"
   ]
  },
  {
   "cell_type": "code",
   "execution_count": null,
   "metadata": {},
   "outputs": [],
   "source": []
  }
 ],
 "metadata": {
  "kernelspec": {
   "display_name": "py36",
   "language": "python",
   "name": "py36"
  },
  "language_info": {
   "codemirror_mode": {
    "name": "ipython",
    "version": 3
   },
   "file_extension": ".py",
   "mimetype": "text/x-python",
   "name": "python",
   "nbconvert_exporter": "python",
   "pygments_lexer": "ipython3",
   "version": "3.6.7"
  }
 },
 "nbformat": 4,
 "nbformat_minor": 2
}
