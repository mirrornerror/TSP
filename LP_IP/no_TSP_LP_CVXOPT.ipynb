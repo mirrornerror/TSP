{
 "cells": [
  {
   "cell_type": "markdown",
   "metadata": {},
   "source": [
    "# TSP LP: CVXOPT"
   ]
  },
  {
   "cell_type": "code",
   "execution_count": 2,
   "metadata": {
    "ExecuteTime": {
     "end_time": "2019-02-24T04:09:55.248275Z",
     "start_time": "2019-02-24T04:09:55.238842Z"
    }
   },
   "outputs": [],
   "source": [
    "%matplotlib inline\n",
    "import numpy as np\n",
    "import matplotlib.pyplot as plt\n",
    "#from numba import jit, njit, prange\n",
    "#from itertools import permutations, combinations\n",
    "from tqdm import tqdm_notebook as tqdm\n",
    "#import networkx as nx\n",
    "#from pulp import *\n",
    "import cvxopt as cvx\n",
    "seed = 42\n",
    "np.random.seed(seed=seed)"
   ]
  },
  {
   "cell_type": "code",
   "execution_count": 3,
   "metadata": {
    "ExecuteTime": {
     "end_time": "2019-02-24T04:10:10.130158Z",
     "start_time": "2019-02-24T04:10:10.118031Z"
    },
    "code_folding": [
     0
    ]
   },
   "outputs": [],
   "source": [
    "def gen_path(num):\n",
    "    path = np.concatenate([np.arange(num), [0]])\n",
    "    X = np.random.random(num)\n",
    "    Y = np.random.random(num)\n",
    "    XY = X + Y * 1j\n",
    "    return num, path, X, Y, XY"
   ]
  },
  {
   "cell_type": "code",
   "execution_count": 4,
   "metadata": {
    "ExecuteTime": {
     "end_time": "2019-02-24T04:10:35.014069Z",
     "start_time": "2019-02-24T04:10:34.991494Z"
    },
    "code_folding": [
     0
    ]
   },
   "outputs": [],
   "source": [
    "def gen_grid(W, H, noize=False):\n",
    "    num = W * H\n",
    "    path = np.concatenate([np.arange(num), [0]])\n",
    "    w = np.linspace(0, 1, W+2) \n",
    "    h = np.linspace(0, 1, H+2)\n",
    "    X = []\n",
    "    nz = 0\n",
    "    for _ in h[1:-1]:\n",
    "        for i in w[1:-1]:\n",
    "            if noize:\n",
    "                nz = np.random.random()*noize\n",
    "            X.append(i+nz) \n",
    "    Y = []\n",
    "    for i in h[1:-1]:\n",
    "        for _ in w[1:-1]:\n",
    "            if noize:\n",
    "                nz = np.random.random()*noize\n",
    "            Y.append(i+nz)\n",
    "    X = np.array(X)\n",
    "    Y = np.array(Y)\n",
    "    XY = X + Y * 1j\n",
    "    return num, path, X, Y, XY"
   ]
  },
  {
   "cell_type": "code",
   "execution_count": 5,
   "metadata": {
    "ExecuteTime": {
     "end_time": "2019-02-24T04:10:51.420401Z",
     "start_time": "2019-02-24T04:10:51.407657Z"
    },
    "code_folding": [
     0
    ]
   },
   "outputs": [],
   "source": [
    "def plot_list(path, plist=False, size=6):\n",
    "    plt.figure(figsize=(size, size))\n",
    "    cmap = plt.get_cmap(\"tab10\")\n",
    "    plt.axis([0,1,0,1], 'equal')\n",
    "    plt.plot(X[path], Y[path], alpha=0.5)\n",
    "    plt.scatter(X[0], Y[0], s=80, c='r', marker='o')\n",
    "    plt.scatter(X[1:], Y[1:], s=40, c=cmap(0), marker='o')\n",
    "    if plist:\n",
    "        for p in plist:\n",
    "            plt.plot(X[p], Y[p])\n",
    "    for i in range(num):\n",
    "        plt.text(X[i], Y[i]+0.01, s=i, fontsize=10, color='gray')"
   ]
  },
  {
   "cell_type": "code",
   "execution_count": 6,
   "metadata": {
    "ExecuteTime": {
     "end_time": "2019-02-24T04:11:07.704938Z",
     "start_time": "2019-02-24T04:11:07.571636Z"
    }
   },
   "outputs": [
    {
     "data": {
      "image/png": "[encoded data removed]",
      "text/plain": [
       "<matplotlib.figure.Figure at 0x7f21682c3358>"
      ]
     },
     "metadata": {},
     "output_type": "display_data"
    }
   ],
   "source": [
    "num, path, X, Y, XY = gen_path(10)\n",
    "#num, path, X, Y, XY = gen_grid(4, 4, 0.1)\n",
    "plot_list(path)"
   ]
  },
  {
   "cell_type": "markdown",
   "metadata": {},
   "source": [
    "## Linear Programming"
   ]
  },
  {
   "cell_type": "code",
   "execution_count": 24,
   "metadata": {
    "ExecuteTime": {
     "end_time": "2019-02-24T11:24:09.126459Z",
     "start_time": "2019-02-24T11:24:09.116579Z"
    }
   },
   "outputs": [
    {
     "data": {
      "text/plain": [
       "[[1.1104932820603384,\n",
       "  0.8870664493697893,\n",
       "  0.2949557163219585,\n",
       "  0.27156974542266965,\n",
       "  0.27252988110441834,\n",
       "  0.4249781629643551,\n",
       "  0.7041983565521177,\n",
       "  0.4696314119405111,\n",
       "  0.4295258147398169],\n",
       " [1.1104932820603384,\n",
       "  0.2583327932911981,\n",
       "  0.8353781959724453,\n",
       "  1.1192046226681982,\n",
       "  1.1181100982716126,\n",
       "  1.1135092825135153,\n",
       "  0.45310955453718704,\n",
       "  0.6415807267488091,\n",
       "  0.7207513560560428],\n",
       " [0.8870664493697893,\n",
       "  0.2583327932911981,\n",
       "  0.6342765424695918,\n",
       "  0.8689366518792146,\n",
       "  0.8677706084922024,\n",
       "  0.8562422511644017,\n",
       "  0.33567196363830837,\n",
       "  0.4213402896593833,\n",
       "  0.5417418987771183],\n",
       " [0.2949557163219585,\n",
       "  0.8353781959724453,\n",
       "  0.6342765424695918,\n",
       "  0.44369036977477466,\n",
       "  0.4436086067986944,\n",
       "  0.5483314490270467,\n",
       "  0.4113031505935224,\n",
       "  0.21961964698133793,\n",
       "  0.1348891420230783],\n",
       " [0.27156974542266965,\n",
       "  1.1192046226681982,\n",
       "  0.8689366518792146,\n",
       "  0.44369036977477466,\n",
       "  0.0015797267963511973,\n",
       "  0.15677135951991944,\n",
       "  0.7886226421254002,\n",
       "  0.5105593206229513,\n",
       "  0.5627902120821348],\n",
       " [0.27252988110441834,\n",
       "  1.1181100982716126,\n",
       "  0.8677706084922024,\n",
       "  0.4436086067986944,\n",
       "  0.0015797267963511973,\n",
       "  0.15552589392286145,\n",
       "  0.7879588032460091,\n",
       "  0.5098084310595025,\n",
       "  0.5625089620953474],\n",
       " [0.4249781629643551,\n",
       "  1.1135092825135153,\n",
       "  0.8562422511644017,\n",
       "  0.5483314490270467,\n",
       "  0.15677135951991944,\n",
       "  0.15552589392286145,\n",
       "  0.8376395706250586,\n",
       "  0.5578450500286153,\n",
       "  0.6501192169759623],\n",
       " [0.7041983565521177,\n",
       "  0.45310955453718704,\n",
       "  0.33567196363830837,\n",
       "  0.4113031505935224,\n",
       "  0.7886226421254002,\n",
       "  0.7879588032460091,\n",
       "  0.8376395706250586,\n",
       "  0.2808404585443625,\n",
       "  0.28201371252520196],\n",
       " [0.4696314119405111,\n",
       "  0.6415807267488091,\n",
       "  0.4213402896593833,\n",
       "  0.21961964698133793,\n",
       "  0.5105593206229513,\n",
       "  0.5098084310595025,\n",
       "  0.5578450500286153,\n",
       "  0.2808404585443625,\n",
       "  0.17675089641140238],\n",
       " [0.4295258147398169,\n",
       "  0.7207513560560428,\n",
       "  0.5417418987771183,\n",
       "  0.1348891420230783,\n",
       "  0.5627902120821348,\n",
       "  0.5625089620953474,\n",
       "  0.6501192169759623,\n",
       "  0.28201371252520196,\n",
       "  0.17675089641140238]]"
      ]
     },
     "execution_count": 24,
     "metadata": {},
     "output_type": "execute_result"
    }
   ],
   "source": [
    "d = [[abs(XY[i] - XY[j]) for j in range(num) if i != j] for i in range(num)]"
   ]
  },
  {
   "cell_type": "code",
   "execution_count": null,
   "metadata": {},
   "outputs": [],
   "source": []
  }
 ],
 "metadata": {
  "_draft": {
   "nbviewer_url": "https://gist.github.com/2869d9200f71abd4eac35e01d9a3dc22"
  },
  "gist": {
   "data": {
    "description": "Jupyters/KAGGLE/TSP/LP_IP/TSP_LP_CVXOPT.ipynb",
    "public": false
   },
   "id": "2869d9200f71abd4eac35e01d9a3dc22"
  },
  "kernelspec": {
   "display_name": "py36",
   "language": "python",
   "name": "py36"
  },
  "language_info": {
   "codemirror_mode": {
    "name": "ipython",
    "version": 3
   },
   "file_extension": ".py",
   "mimetype": "text/x-python",
   "name": "python",
   "nbconvert_exporter": "python",
   "pygments_lexer": "ipython3",
   "version": "3.6.7"
  }
 },
 "nbformat": 4,
 "nbformat_minor": 2
}
