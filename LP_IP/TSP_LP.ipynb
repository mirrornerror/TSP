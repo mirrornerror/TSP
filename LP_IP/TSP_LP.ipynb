{
 "cells": [
  {
   "cell_type": "markdown",
   "metadata": {},
   "source": [
    "# TSP LP with Pulp\n",
    "\n",
    "Pulp: https://github.com/coin-or/pulp  \n",
    "reference: https://nbviewer.jupyter.org/github/cochoa0x1/intro-mathematical-programming/blob/master/05-routes-and-schedules/traveling_salesman.ipynb#"
   ]
  },
  {
   "cell_type": "code",
   "execution_count": 9,
   "metadata": {
    "ExecuteTime": {
     "end_time": "2019-06-03T06:49:20.801616Z",
     "start_time": "2019-06-03T06:49:20.797439Z"
    }
   },
   "outputs": [],
   "source": [
    "%matplotlib inline\n",
    "import numpy as np\n",
    "import matplotlib.pyplot as plt\n",
    "from pulp import *\n",
    "seed = 42\n",
    "np.random.seed(seed=seed)"
   ]
  },
  {
   "cell_type": "code",
   "execution_count": 2,
   "metadata": {
    "ExecuteTime": {
     "end_time": "2019-06-03T06:08:05.635192Z",
     "start_time": "2019-06-03T06:08:05.631980Z"
    },
    "code_folding": [],
    "run_control": {
     "marked": false
    }
   },
   "outputs": [],
   "source": [
    "def gen_param(num):\n",
    "    path = list(range(num))\n",
    "    X = np.random.random(num)\n",
    "    Y = np.random.random(num)\n",
    "    XY = X + Y * 1j\n",
    "    return num, path, X, Y, XY"
   ]
  },
  {
   "cell_type": "code",
   "execution_count": 3,
   "metadata": {
    "ExecuteTime": {
     "end_time": "2019-06-03T06:08:06.805319Z",
     "start_time": "2019-06-03T06:08:06.798658Z"
    }
   },
   "outputs": [],
   "source": [
    "def plot_path(path, edges=False, size=6):\n",
    "    plt.figure(figsize=(size, size))\n",
    "    cmap = plt.get_cmap(\"tab10\")\n",
    "    plt.axis([0,1,0,1], 'equal')\n",
    "    plt.plot(X[path], Y[path], alpha=0.0)\n",
    "    plt.scatter(X[0], Y[0], s=80, c='r', marker='o')\n",
    "    if path:\n",
    "        for i in range(len(path)-1):\n",
    "            plt.arrow(X[path[i]], Y[path[i]], \n",
    "                      X[path[i+1]]-X[path[i]], Y[path[i+1]]-Y[path[i]], \n",
    "                      head_width=0.02, head_length=0.02, length_includes_head=True, \n",
    "                      fc=cmap(0), ec=cmap(0))\n",
    "    if edges:\n",
    "        for e in edges:\n",
    "            plt.plot([X[e[0]], X[e[1]]], [Y[e[0]], Y[e[1]]])\n",
    "    \n",
    "    for i in range(num):\n",
    "        plt.text(X[i], Y[i]+0.01, s=i, fontsize=10, color='gray')"
   ]
  },
  {
   "cell_type": "code",
   "execution_count": 4,
   "metadata": {
    "ExecuteTime": {
     "end_time": "2019-06-03T06:08:07.778649Z",
     "start_time": "2019-06-03T06:08:07.617320Z"
    }
   },
   "outputs": [
    {
     "data": {
      "image/png": "[encoded data removed]",
      "text/plain": [
       "<Figure size 432x432 with 1 Axes>"
      ]
     },
     "metadata": {
      "needs_background": "light"
     },
     "output_type": "display_data"
    }
   ],
   "source": [
    "# Generate parameters and Plot initial path\n",
    "num, path, X, Y, XY = gen_param(10) # the number of nodes\n",
    "plot_path(path + [0])"
   ]
  },
  {
   "cell_type": "markdown",
   "metadata": {},
   "source": [
    "## Linear Programming:"
   ]
  },
  {
   "cell_type": "code",
   "execution_count": 5,
   "metadata": {
    "ExecuteTime": {
     "end_time": "2019-06-03T06:08:10.217895Z",
     "start_time": "2019-06-03T06:08:10.209051Z"
    }
   },
   "outputs": [],
   "source": [
    "# the problem\n",
    "prob = LpProblem(name='TSP_LP', sense=LpMinimize)\n",
    "\n",
    "# (i, j) is an edge from node i to node j: distance between i and j\n",
    "dist = dict({(i, j): (abs(XY[i] - XY[j])) for i in range(num) for j in range(num) if i != j})\n",
    "\n",
    "#  1: the tour includes an edge from i to j, if not included: 0\n",
    "x = LpVariable.dicts('x', dist, 0, 1, LpBinary)\n",
    "\n",
    "# the objective to be minimumized\n",
    "cost = lpSum([dist[(i,j)] * x[(i,j)] for i, j in dist])\n",
    "prob += cost\n",
    "\n",
    "for i in path:\n",
    "    prob += lpSum([x[(i, j)] for j in path if i != j]) == 1\n",
    "    prob += lpSum([x[(j, i)] for j in path if i != j]) == 1\n",
    "\n",
    "# for j in path:\n",
    "#     prob += lpSum([x[(i, j)] for i in path if i != j]) == 1"
   ]
  },
  {
   "cell_type": "code",
   "execution_count": 6,
   "metadata": {
    "ExecuteTime": {
     "end_time": "2019-06-03T06:08:11.398791Z",
     "start_time": "2019-06-03T06:08:11.392333Z"
    }
   },
   "outputs": [],
   "source": [
    "# MTZ(Miller-Tucker-Zemlin) Subtour Elimination\n",
    "u = LpVariable.dicts('u', path, 0, num)\n",
    "for i in path:\n",
    "    for j in path:\n",
    "        if i != j and (i != path[0] and j != path[0]) and (i, j) in x:\n",
    "            prob += u[i] - u[j] + num * x[(i, j)] <= num - 1"
   ]
  },
  {
   "cell_type": "code",
   "execution_count": 7,
   "metadata": {
    "ExecuteTime": {
     "end_time": "2019-06-03T06:08:14.024771Z",
     "start_time": "2019-06-03T06:08:13.369865Z"
    }
   },
   "outputs": [
    {
     "name": "stdout",
     "output_type": "stream",
     "text": [
      "CPU times: user 7.42 ms, sys: 966 µs, total: 8.39 ms\n",
      "Wall time: 651 ms\n",
      "Optimal\n"
     ]
    }
   ],
   "source": [
    "%time prob.solve()  # 20 nodes: 984 ms, \n",
    "print(LpStatus[prob.status]) "
   ]
  },
  {
   "cell_type": "code",
   "execution_count": 8,
   "metadata": {
    "ExecuteTime": {
     "end_time": "2019-06-03T06:08:15.407755Z",
     "start_time": "2019-06-03T06:08:15.209716Z"
    }
   },
   "outputs": [
    {
     "name": "stdout",
     "output_type": "stream",
     "text": [
      "tour         : [0, 4, 5, 6, 8, 2, 1, 7, 9, 3]\n",
      "tour distance: 2.5362059082065462\n"
     ]
    },
    {
     "data": {
      "image/png": "[encoded data removed]",
      "text/plain": [
       "<Figure size 432x432 with 1 Axes>"
      ]
     },
     "metadata": {
      "needs_background": "light"
     },
     "output_type": "display_data"
    }
   ],
   "source": [
    "T = [path[0]]\n",
    "while len(T) < num:\n",
    "    for key in x:\n",
    "        if x[key].varValue > 0.99 and key[0] == T[-1]:\n",
    "            T.append(key[1])\n",
    "\n",
    "tour_dist = [dist[(T[i - 1], T[i])] for i in range(1, len(T))]\n",
    "\n",
    "E = []\n",
    "for key in x:\n",
    "    if x[key].varValue == 1:\n",
    "        E.append((key[0], key[1]))\n",
    "\n",
    "print('tour         :', T)\n",
    "print('tour distance:', sum(tour_dist))\n",
    "#print('edges:', E)\n",
    "plot_path(False, E)"
   ]
  },
  {
   "cell_type": "code",
   "execution_count": 240,
   "metadata": {
    "ExecuteTime": {
     "end_time": "2019-05-27T07:47:18.129563Z",
     "start_time": "2019-05-27T07:47:18.120866Z"
    }
   },
   "outputs": [
    {
     "data": {
      "text/plain": [
       "[0, 1, 2, 3, 7, 6, 9, 8, 4, 5]"
      ]
     },
     "execution_count": 240,
     "metadata": {},
     "output_type": "execute_result"
    }
   ],
   "source": [
    "def subtour(x):\n",
    "    T = [path[0]]\n",
    "    while True:\n",
    "        for j in range(num):\n",
    "            if T[-1] != j and x[(T[-1], j)].varValue > 0.99:\n",
    "                if j not in T:\n",
    "                    T.append(j)\n",
    "                else:\n",
    "                    return T\n",
    "Sub = subtour(x)\n",
    "Sub"
   ]
  },
  {
   "cell_type": "code",
   "execution_count": 241,
   "metadata": {
    "ExecuteTime": {
     "end_time": "2019-05-27T07:47:20.397315Z",
     "start_time": "2019-05-27T07:47:20.238244Z"
    }
   },
   "outputs": [
    {
     "data": {
      "image/png": "[encoded data removed]",
      "text/plain": [
       "<matplotlib.figure.Figure at 0x7fe8944847f0>"
      ]
     },
     "metadata": {},
     "output_type": "display_data"
    }
   ],
   "source": []
  },
  {
   "cell_type": "code",
   "execution_count": 234,
   "metadata": {
    "ExecuteTime": {
     "end_time": "2019-05-27T07:44:19.156926Z",
     "start_time": "2019-05-27T07:44:19.148577Z"
    }
   },
   "outputs": [
    {
     "name": "stdout",
     "output_type": "stream",
     "text": [
      "(0, 1) 1.0\n",
      "(0, 5) 1.0\n",
      "(1, 2) 1.0\n",
      "(2, 3) 1.0\n",
      "(3, 7) 1.0\n",
      "(4, 5) 1.0\n",
      "(4, 7) 1.0\n",
      "(6, 8) 1.0\n",
      "(6, 9) 1.0\n",
      "(8, 9) 1.0\n"
     ]
    }
   ],
   "source": [
    "for key in x:\n",
    "    if x[key].varValue > 0:\n",
    "        print(key, x[key].varValue)"
   ]
  },
  {
   "cell_type": "code",
   "execution_count": 228,
   "metadata": {
    "ExecuteTime": {
     "end_time": "2019-05-27T07:40:41.617897Z",
     "start_time": "2019-05-27T07:40:41.606936Z"
    }
   },
   "outputs": [
    {
     "name": "stdout",
     "output_type": "stream",
     "text": [
      "tour         : [0, 1, 2, 3, 7, 6, 9, 8, 4, 5, 0]\n",
      "tour distance: 2.361875075541071\n",
      "Finish\n"
     ]
    }
   ],
   "source": [
    "while True:\n",
    "    if len(Sub) == num:\n",
    "        print('tour         :', Sub + [path[0]])\n",
    "        print('tour distance:', sum(tour_dist))\n",
    "        print('Finish')\n",
    "        break\n",
    "    else:\n",
    "        print('eliminating subtour:', Sub)\n",
    "        nots = [j for j in range(num) if j not in Sub]\n",
    "        for j in nots:\n",
    "            prob += lpSum(x[(i, j)] for i in Sub if i != j) >= 1\n",
    "        prob.solve()\n",
    "        "
   ]
  },
  {
   "cell_type": "code",
   "execution_count": 188,
   "metadata": {
    "ExecuteTime": {
     "end_time": "2019-05-27T01:35:43.862351Z",
     "start_time": "2019-05-27T01:35:43.857631Z"
    }
   },
   "outputs": [
    {
     "name": "stdout",
     "output_type": "stream",
     "text": [
      "[(0, 1), (0, 2), (0, 3), (0, 4), (0, 5), (0, 6), (0, 7), (0, 8), (9, 1), (9, 2), (9, 3), (9, 4), (9, 5), (9, 6), (9, 7), (9, 8)]\n"
     ]
    }
   ],
   "source": [
    "print([(i, j) for i in Sub for j in nots if i != j and i != 0 and j != 0])"
   ]
  },
  {
   "cell_type": "code",
   "execution_count": 12,
   "metadata": {
    "ExecuteTime": {
     "end_time": "2019-06-03T15:22:20.423926Z",
     "start_time": "2019-06-03T15:21:59.505991Z"
    }
   },
   "outputs": [
    {
     "ename": "KeyboardInterrupt",
     "evalue": "",
     "output_type": "error",
     "traceback": [
      "\u001b[0;31m---------------------------------------------------------------------------\u001b[0m",
      "\u001b[0;31mKeyboardInterrupt\u001b[0m                         Traceback (most recent call last)",
      "\u001b[0;32m<ipython-input-12-c89253095c15>\u001b[0m in \u001b[0;36m<module>\u001b[0;34m\u001b[0m\n\u001b[1;32m      6\u001b[0m     \u001b[0;32mif\u001b[0m \u001b[0mk\u001b[0m \u001b[0;34m==\u001b[0m \u001b[0;36m27\u001b[0m\u001b[0;34m:\u001b[0m         \u001b[0;31m# wait for ESC key to exit\u001b[0m\u001b[0;34m\u001b[0m\u001b[0;34m\u001b[0m\u001b[0m\n\u001b[1;32m      7\u001b[0m         \u001b[0;32mbreak\u001b[0m\u001b[0;34m\u001b[0m\u001b[0;34m\u001b[0m\u001b[0m\n\u001b[0;32m----> 8\u001b[0;31m     \u001b[0;32melif\u001b[0m \u001b[0mk\u001b[0m \u001b[0;34m==\u001b[0m \u001b[0mord\u001b[0m\u001b[0;34m(\u001b[0m\u001b[0;34m's'\u001b[0m\u001b[0;34m)\u001b[0m\u001b[0;34m:\u001b[0m \u001b[0;31m# wait for 's' key to save and exit\u001b[0m\u001b[0;34m\u001b[0m\u001b[0;34m\u001b[0m\u001b[0m\n\u001b[0m\u001b[1;32m      9\u001b[0m         \u001b[0;32mbreak\u001b[0m\u001b[0;34m\u001b[0m\u001b[0;34m\u001b[0m\u001b[0m\n",
      "\u001b[0;31mKeyboardInterrupt\u001b[0m: "
     ]
    }
   ],
   "source": [
    "import cv2\n",
    "\n",
    "k = cv2.waitKey(0)\n",
    "\n",
    "while True:\n",
    "    if k == 27:         # wait sfor ESC key to exit\n",
    "        break\n",
    "    elif k == ord('s'): # wait for 's' key to save and exit\n",
    "        break"
   ]
  },
  {
   "cell_type": "code",
   "execution_count": null,
   "metadata": {},
   "outputs": [],
   "source": []
  }
 ],
 "metadata": {
  "kernelspec": {
   "display_name": "py36",
   "language": "python",
   "name": "py36"
  },
  "language_info": {
   "codemirror_mode": {
    "name": "ipython",
    "version": 3
   },
   "file_extension": ".py",
   "mimetype": "text/x-python",
   "name": "python",
   "nbconvert_exporter": "python",
   "pygments_lexer": "ipython3",
   "version": "3.6.7"
  }
 },
 "nbformat": 4,
 "nbformat_minor": 2
}
