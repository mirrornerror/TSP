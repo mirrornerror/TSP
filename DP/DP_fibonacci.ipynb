{
 "cells": [
  {
   "cell_type": "markdown",
   "metadata": {},
   "source": [
    "# DP: dynamic programming"
   ]
  },
  {
   "cell_type": "code",
   "execution_count": 2,
   "metadata": {
    "ExecuteTime": {
     "end_time": "2019-03-21T12:17:30.203717Z",
     "start_time": "2019-03-21T12:17:03.490370Z"
    }
   },
   "outputs": [
    {
     "name": "stdout",
     "output_type": "stream",
     "text": [
      "CPU times: user 35 µs, sys: 1 µs, total: 36 µs\n",
      "Wall time: 38.4 µs\n"
     ]
    },
    {
     "data": {
      "text/plain": [
       "55"
      ]
     },
     "execution_count": 2,
     "metadata": {},
     "output_type": "execute_result"
    }
   ],
   "source": [
    "# simple fibonacci\n",
    "def fib(n):\n",
    "    if n < 2:\n",
    "        return n\n",
    "    else:\n",
    "        return fib(n-1) + fib(n-2)\n",
    "\n",
    "%time fib(10)"
   ]
  },
  {
   "cell_type": "code",
   "execution_count": 357,
   "metadata": {
    "ExecuteTime": {
     "end_time": "2019-03-22T02:16:41.324703Z",
     "start_time": "2019-03-22T02:16:41.316707Z"
    }
   },
   "outputs": [
    {
     "name": "stdout",
     "output_type": "stream",
     "text": [
      "CPU times: user 689 µs, sys: 11 µs, total: 700 µs\n",
      "Wall time: 620 µs\n"
     ]
    },
    {
     "data": {
      "text/plain": [
       "43466557686937456435688527675040625802564660517371780402481729089536555417949051890403879840079255169295922593080322634775209689623239873322471161642996440906533187938298969649928516003704476137795166849228875"
      ]
     },
     "execution_count": 357,
     "metadata": {},
     "output_type": "execute_result"
    }
   ],
   "source": [
    "# tail call\n",
    "def fib(n, n1=1, n2=0):\n",
    "    if (n < 2): \n",
    "        return n1\n",
    "    else:\n",
    "        return fib(n-1, n1+n2, n1)\n",
    "\n",
    "%time fib(1000)"
   ]
  },
  {
   "cell_type": "code",
   "execution_count": 356,
   "metadata": {
    "ExecuteTime": {
     "end_time": "2019-03-22T02:15:29.343620Z",
     "start_time": "2019-03-22T02:15:29.336306Z"
    }
   },
   "outputs": [
    {
     "name": "stdout",
     "output_type": "stream",
     "text": [
      "CPU times: user 54 µs, sys: 1 µs, total: 55 µs\n",
      "Wall time: 57 µs\n"
     ]
    },
    {
     "data": {
      "text/plain": [
       "43466557686937456435688527675040625802564660517371780402481729089536555417949051890403879840079255169295922593080322634775209689623239873322471161642996440906533187938298969649928516003704476137795166849228875"
      ]
     },
     "execution_count": 356,
     "metadata": {},
     "output_type": "execute_result"
    }
   ],
   "source": [
    "def fib(n):\n",
    "    n1, n2 = 1, 0\n",
    "    for _ in range(2, n):\n",
    "        n1, n2 = n1 + n2, n1\n",
    "    return n1 + n2\n",
    "\n",
    "%time fib(1000)"
   ]
  },
  {
   "cell_type": "code",
   "execution_count": 372,
   "metadata": {
    "ExecuteTime": {
     "end_time": "2019-03-22T14:37:45.993974Z",
     "start_time": "2019-03-22T14:37:45.984742Z"
    }
   },
   "outputs": [
    {
     "name": "stdout",
     "output_type": "stream",
     "text": [
      "CPU times: user 156 µs, sys: 3 µs, total: 159 µs\n",
      "Wall time: 162 µs\n"
     ]
    },
    {
     "data": {
      "text/plain": [
       "43466557686937456435688527675040625802564660517371780402481729089536555417949051890403879840079255169295922593080322634775209689623239873322471161642996440906533187938298969649928516003704476137795166849228875"
      ]
     },
     "execution_count": 372,
     "metadata": {},
     "output_type": "execute_result"
    }
   ],
   "source": [
    "def fib(n):\n",
    "    memo = [0] * (n+1)\n",
    "    for i in range(n+1):\n",
    "        if i < 2:\n",
    "            memo[i] = i\n",
    "        else:\n",
    "            memo[i] = memo[i-1] + memo[i-2]\n",
    "    return memo[n]\n",
    "\n",
    "%time fib(1000)"
   ]
  },
  {
   "cell_type": "code",
   "execution_count": 376,
   "metadata": {
    "ExecuteTime": {
     "end_time": "2019-03-22T14:46:38.786955Z",
     "start_time": "2019-03-22T14:46:38.776928Z"
    }
   },
   "outputs": [
    {
     "name": "stdout",
     "output_type": "stream",
     "text": [
      "CPU times: user 580 µs, sys: 11 µs, total: 591 µs\n",
      "Wall time: 594 µs\n"
     ]
    },
    {
     "data": {
      "text/plain": [
       "43466557686937456435688527675040625802564660517371780402481729089536555417949051890403879840079255169295922593080322634775209689623239873322471161642996440906533187938298969649928516003704476137795166849228875"
      ]
     },
     "execution_count": 376,
     "metadata": {},
     "output_type": "execute_result"
    }
   ],
   "source": [
    "# fibonacci with memo\n",
    "memo = {}\n",
    "def fib(n):\n",
    "    if n in memo:\n",
    "        return memo[n]\n",
    "    if n < 2:\n",
    "        val = n\n",
    "    else:\n",
    "        val = fib(n-1) + fib(n-2)\n",
    "    memo[n] = val\n",
    "    return val\n",
    "\n",
    "%time fib(1000)"
   ]
  },
  {
   "cell_type": "code",
   "execution_count": 380,
   "metadata": {
    "ExecuteTime": {
     "end_time": "2019-03-22T14:48:43.826945Z",
     "start_time": "2019-03-22T14:48:43.817655Z"
    }
   },
   "outputs": [
    {
     "name": "stdout",
     "output_type": "stream",
     "text": [
      "CPU times: user 184 µs, sys: 4 µs, total: 188 µs\n",
      "Wall time: 190 µs\n"
     ]
    },
    {
     "data": {
      "text/plain": [
       "43466557686937456435688527675040625802564660517371780402481729089536555417949051890403879840079255169295922593080322634775209689623239873322471161642996440906533187938298969649928516003704476137795166849228875"
      ]
     },
     "execution_count": 380,
     "metadata": {},
     "output_type": "execute_result"
    }
   ],
   "source": [
    "def fib(n):\n",
    "    memo = []\n",
    "    for i in range(n+1):\n",
    "        if i < 2:\n",
    "            memo.append(i)\n",
    "        else:\n",
    "            memo.append(memo[i-1] + memo[i-2])\n",
    "    return memo[-1]\n",
    "\n",
    "%time fib(1000)"
   ]
  },
  {
   "cell_type": "code",
   "execution_count": 10,
   "metadata": {
    "ExecuteTime": {
     "end_time": "2019-04-25T06:07:48.378859Z",
     "start_time": "2019-04-25T06:07:48.360851Z"
    }
   },
   "outputs": [
    {
     "name": "stdout",
     "output_type": "stream",
     "text": [
      "CPU times: user 1.29 ms, sys: 198 µs, total: 1.48 ms\n",
      "Wall time: 1.49 ms\n"
     ]
    },
    {
     "data": {
      "text/plain": [
       "134990611541871171150245970034645091463044111967318843136545311764067361770654981220075521450364823713899496900871185925021371990058278952514927132297267785335957611127858703258006315769706182958549300223731"
      ]
     },
     "execution_count": 10,
     "metadata": {},
     "output_type": "execute_result"
    }
   ],
   "source": [
    "from functools import lru_cache\n",
    "\n",
    "@lru_cache()\n",
    "def fib(n):\n",
    "    if n < 2:\n",
    "        return n\n",
    "    else:\n",
    "        return fib(n-1) + fib(n-2)\n",
    "\n",
    "#%time [fib(i) for i in range(987, 1001)]\n",
    "%time fib(988)"
   ]
  },
  {
   "cell_type": "code",
   "execution_count": 11,
   "metadata": {
    "ExecuteTime": {
     "end_time": "2019-04-25T06:07:49.558716Z",
     "start_time": "2019-04-25T06:07:49.555992Z"
    }
   },
   "outputs": [],
   "source": [
    "# def memoize(f):\n",
    "#     cache = {}\n",
    "#     return lambda *x: cache[x] if x in cache else cache.setdefault(x, f(*x))"
   ]
  },
  {
   "cell_type": "code",
   "execution_count": 12,
   "metadata": {
    "ExecuteTime": {
     "end_time": "2019-04-25T06:07:51.067348Z",
     "start_time": "2019-04-25T06:07:51.062987Z"
    }
   },
   "outputs": [
    {
     "data": {
      "text/plain": [
       "1024"
      ]
     },
     "execution_count": 12,
     "metadata": {},
     "output_type": "execute_result"
    }
   ],
   "source": [
    "#@memoize\n",
    "def double(n):\n",
    "    if n == 0:\n",
    "        return 1\n",
    "    return 2*double(n-1)\n",
    "\n",
    "double(10)"
   ]
  },
  {
   "cell_type": "code",
   "execution_count": 56,
   "metadata": {
    "ExecuteTime": {
     "end_time": "2019-04-26T16:45:34.249086Z",
     "start_time": "2019-04-26T16:45:34.231590Z"
    }
   },
   "outputs": [
    {
     "name": "stdout",
     "output_type": "stream",
     "text": [
      "CPU times: user 696 µs, sys: 336 µs, total: 1.03 ms\n",
      "Wall time: 1.04 ms\n"
     ]
    },
    {
     "data": {
      "text/plain": [
       "43466557686937456435688527675040625802564660517371780402481729089536555417949051890403879840079255169295922593080322634775209689623239873322471161642996440906533187938298969649928516003704476137795166849228875"
      ]
     },
     "execution_count": 56,
     "metadata": {},
     "output_type": "execute_result"
    }
   ],
   "source": [
    "def memoize(f):\n",
    "    cache = {}\n",
    "    def func(*args):\n",
    "        if not args in cache:\n",
    "            cache[args] = f(*args)\n",
    "        return cache[args]\n",
    "    return func\n",
    "\n",
    "@memoize\n",
    "def fib(n):\n",
    "    if n <= 2:\n",
    "        return 1\n",
    "    else:\n",
    "        return fib(n-2) + fib(n-1)\n",
    "\n",
    "%time fib(1000)"
   ]
  },
  {
   "cell_type": "code",
   "execution_count": 60,
   "metadata": {
    "ExecuteTime": {
     "end_time": "2019-04-22T09:21:44.506196Z",
     "start_time": "2019-04-22T09:21:44.497386Z"
    }
   },
   "outputs": [],
   "source": [
    "from functools import lru_cache\n",
    "\n",
    "@lru_cache(maxsize=1000)\n",
    "def fibonacci(n):\n",
    "    if n == 1:\n",
    "        return 1\n",
    "    elif n == 2:\n",
    "        return 1\n",
    "    elif n > 2:\n",
    "        return fibonacci(n-1) + fibonacci(n-2)\n",
    "\n",
    "# for n in range(1, 1001):\n",
    "#     print(n, \":\", fibonacci(n))"
   ]
  },
  {
   "cell_type": "code",
   "execution_count": 14,
   "metadata": {
    "ExecuteTime": {
     "end_time": "2019-04-25T06:08:18.047687Z",
     "start_time": "2019-04-25T06:08:18.039056Z"
    }
   },
   "outputs": [
    {
     "data": {
      "text/plain": [
       "3628800"
      ]
     },
     "execution_count": 14,
     "metadata": {},
     "output_type": "execute_result"
    }
   ],
   "source": [
    "def fact(n):\n",
    "    if n == 0:\n",
    "        return 1\n",
    "    return n * fact(n-1)\n",
    "\n",
    "#[fact(i) for i in range(10)]\n",
    "fact(10)"
   ]
  },
  {
   "cell_type": "code",
   "execution_count": 53,
   "metadata": {
    "ExecuteTime": {
     "end_time": "2019-04-26T16:45:26.160273Z",
     "start_time": "2019-04-26T16:45:26.058265Z"
    }
   },
   "outputs": [],
   "source": [
    "import numpy as np\n",
    "n = 10\n",
    "X = np.random.random(n)\n",
    "Y = np.random.random(n)\n",
    "XY = X + Y*1j\n",
    "\n",
    "# dist = np.ones([n, n])\n",
    "# for i in range(n):\n",
    "#     for j in range(n):\n",
    "#         if i != j:\n",
    "#             dist[i][j] = abs(XY[i] - XY[j])"
   ]
  },
  {
   "cell_type": "code",
   "execution_count": 54,
   "metadata": {
    "ExecuteTime": {
     "end_time": "2019-04-26T16:45:27.724770Z",
     "start_time": "2019-04-26T16:45:27.721366Z"
    }
   },
   "outputs": [],
   "source": [
    "dist = []\n",
    "for i in range(n):\n",
    "    dist.append([])\n",
    "    for j in range(n):\n",
    "        dist[i].append(abs(XY[i] - XY[j]))"
   ]
  },
  {
   "cell_type": "code",
   "execution_count": 67,
   "metadata": {
    "ExecuteTime": {
     "end_time": "2019-04-26T17:01:04.930360Z",
     "start_time": "2019-04-26T17:01:04.898432Z"
    }
   },
   "outputs": [
    {
     "name": "stdout",
     "output_type": "stream",
     "text": [
      "base\n",
      "base\n",
      "base\n",
      "base\n",
      "base\n",
      "base\n",
      "base\n",
      "base\n",
      "base\n",
      "CPU times: user 13.3 ms, sys: 0 ns, total: 13.3 ms\n",
      "Wall time: 12.9 ms\n"
     ]
    },
    {
     "data": {
      "text/plain": [
       "2.292075594997109"
      ]
     },
     "execution_count": 67,
     "metadata": {},
     "output_type": "execute_result"
    }
   ],
   "source": [
    "@memoize\n",
    "def tsp(pos, visited):\n",
    "    if visited == visited_all:\n",
    "        print('base')\n",
    "        return dist[pos][0]\n",
    "    \n",
    "    val = []\n",
    "    for x in range(n):\n",
    "        if visited & (1 << x) == 0: # if not visited\n",
    "            val.append(dist[pos][x] + tsp(x, visited | (1 << x)))\n",
    "            #print(format(visited | (1 << x),'b').zfill(n))\n",
    "    return min(val)\n",
    "\n",
    "    #return min([dist[pos][x] + tsp(x, visited | (1 << x)) for x in range(n) if visited & (1 << x) == 0])\n",
    "n=10\n",
    "visited_all = (1 << n) - 1\n",
    "%time tsp(0, 1)"
   ]
  },
  {
   "cell_type": "code",
   "execution_count": 68,
   "metadata": {
    "ExecuteTime": {
     "end_time": "2019-04-26T17:01:13.491910Z",
     "start_time": "2019-04-26T17:01:13.487984Z"
    }
   },
   "outputs": [
    {
     "data": {
      "text/plain": [
       "10"
      ]
     },
     "execution_count": 68,
     "metadata": {},
     "output_type": "execute_result"
    }
   ],
   "source": [
    "format(1,'b').zfill(10)\n",
    "n"
   ]
  },
  {
   "cell_type": "code",
   "execution_count": 70,
   "metadata": {
    "ExecuteTime": {
     "end_time": "2019-04-26T17:01:29.719360Z",
     "start_time": "2019-04-26T17:01:29.685038Z"
    }
   },
   "outputs": [
    {
     "name": "stdout",
     "output_type": "stream",
     "text": [
      "base\n",
      "base\n",
      "base\n",
      "base\n",
      "base\n",
      "base\n",
      "base\n",
      "base\n",
      "base\n",
      "CPU times: user 10.7 ms, sys: 641 µs, total: 11.4 ms\n",
      "Wall time: 10.7 ms\n"
     ]
    },
    {
     "data": {
      "text/plain": [
       "2.292075594997109"
      ]
     },
     "execution_count": 70,
     "metadata": {},
     "output_type": "execute_result"
    }
   ],
   "source": [
    "#n = 4\n",
    "@memoize\n",
    "def tsp(pos, visited):\n",
    "    if visited == (1 << n) - 1:\n",
    "        print('base')\n",
    "        return dist[pos][0]\n",
    "    \n",
    "    val = np.inf\n",
    "    for i in range(n):\n",
    "        if visited & (1 << i) == 0: # if not visited\n",
    "            #print(i, format(visited,'b').zfill(n))\n",
    "            tmp = dist[pos][i] + tsp(i, visited | (1 << i))\n",
    "            #print(i, format(visited,'b').zfill(n))\n",
    "            if tmp < val:\n",
    "                val = tmp\n",
    "            #val = min(val, tmp)\n",
    "    #print(bin(visited))\n",
    "    return val\n",
    "\n",
    "%time tsp(0, 1)"
   ]
  },
  {
   "cell_type": "code",
   "execution_count": 60,
   "metadata": {
    "ExecuteTime": {
     "end_time": "2019-04-25T14:39:20.662298Z",
     "start_time": "2019-04-25T14:39:20.639497Z"
    }
   },
   "outputs": [
    {
     "name": "stdout",
     "output_type": "stream",
     "text": [
      "AAA\n",
      "[1, 1, 1, 1, 1, 1, 1, 1, 1, 1]\n",
      "[1, 1, 1, 1, 1, 1, 1, 1, 1, 1]\n",
      "[1, 1, 1, 1, 1, 1, 1, 1, 1, 1]\n",
      "[1, 1, 1, 1, 1, 1, 1, 1, 1, 1]\n",
      "[1, 1, 1, 1, 1, 1, 1, 1, 1, 1]\n",
      "[1, 1, 1, 1, 1, 1, 1, 1, 1, 1]\n",
      "[1, 1, 1, 1, 1, 1, 1, 1, 1, 1]\n",
      "[1, 1, 1, 1, 1, 1, 1, 1, 1, 1]\n",
      "[1, 1, 1, 1, 1, 1, 1, 1, 1, 1]\n",
      "CPU times: user 449 µs, sys: 0 ns, total: 449 µs\n",
      "Wall time: 345 µs\n"
     ]
    },
    {
     "data": {
      "text/plain": [
       "5.511504299200343"
      ]
     },
     "execution_count": 60,
     "metadata": {},
     "output_type": "execute_result"
    }
   ],
   "source": [
    "visited = [0] * n\n",
    "\n",
    "#@memoize\n",
    "def tsp2(pos, visited):\n",
    "    if visited == [1] * n:\n",
    "        print('AAA')\n",
    "        return dist[pos][0]\n",
    "    \n",
    "    val = np.inf\n",
    "    for i in range(n):\n",
    "        if visited[i] == 0:\n",
    "            visited[i] = 1\n",
    "            #print(visited)\n",
    "            tmp = dist[pos][i] + tsp2(i, visited)\n",
    "            \n",
    "            if tmp < val:\n",
    "                val = tmp\n",
    "                #visited[i] = 0\n",
    "                print(visited)\n",
    "            \n",
    "    return val\n",
    "\n",
    "visited[-1] = 1\n",
    "#print(visited)\n",
    "%time tsp2(0, visited)"
   ]
  },
  {
   "cell_type": "code",
   "execution_count": 27,
   "metadata": {
    "ExecuteTime": {
     "end_time": "2019-04-25T13:19:44.372280Z",
     "start_time": "2019-04-25T13:19:44.349768Z"
    },
    "run_control": {
     "marked": false
    }
   },
   "outputs": [
    {
     "name": "stdout",
     "output_type": "stream",
     "text": [
      "CPU times: user 7.49 ms, sys: 0 ns, total: 7.49 ms\n",
      "Wall time: 7.44 ms\n"
     ]
    },
    {
     "data": {
      "text/plain": [
       "3.4975419972841975"
      ]
     },
     "execution_count": 27,
     "metadata": {},
     "output_type": "execute_result"
    }
   ],
   "source": [
    "@memoize\n",
    "def tsp(p, v):\n",
    "    if (1 << n)-1 == v:\n",
    "        return dist[p][0]\n",
    "    else:\n",
    "        return min([dist[p][x] + tsp(x, v | (1 << x)) for x in range(n) if not (v & (1 << x))])\n",
    "\n",
    "#tsp = memoize(tsp)\n",
    "%time tsp(0, 1)"
   ]
  },
  {
   "cell_type": "code",
   "execution_count": 26,
   "metadata": {
    "ExecuteTime": {
     "end_time": "2019-04-25T13:19:36.092858Z",
     "start_time": "2019-04-25T13:19:36.046367Z"
    }
   },
   "outputs": [
    {
     "name": "stdout",
     "output_type": "stream",
     "text": [
      "CPU times: user 25.5 ms, sys: 0 ns, total: 25.5 ms\n",
      "Wall time: 24.9 ms\n"
     ]
    },
    {
     "data": {
      "text/plain": [
       "3.4975419972841975"
      ]
     },
     "execution_count": 26,
     "metadata": {},
     "output_type": "execute_result"
    }
   ],
   "source": [
    "@memoize\n",
    "def tsp(pos, v):\n",
    "    if (1 << n) - 1 == v:\n",
    "        return dist[pos][0]\n",
    "    d_min = np.inf\n",
    "    for x in range(n):\n",
    "        if v & (1 << x) == 0:\n",
    "            d = dist[pos][x] + tsp(x, v | (1 << x))\n",
    "            d_min = min(d_min, d)\n",
    "    return d_min\n",
    "%time tsp(0, 1)"
   ]
  },
  {
   "cell_type": "code",
   "execution_count": 51,
   "metadata": {
    "ExecuteTime": {
     "end_time": "2019-04-26T16:32:24.078103Z",
     "start_time": "2019-04-26T16:32:24.066000Z"
    }
   },
   "outputs": [],
   "source": [
    "def tsp_dp(n):\n",
    "    n1 = n - 1\n",
    "    memo = [None] * (1 << n1)\n",
    "    memo[(1 << n1) - 1] = [dist[i][0] for i in range(1, n)]\n",
    "    for v in range((1 << n1) - 2, 0, -1):\n",
    "        tmp = [1e300] * n1\n",
    "        for i in range(n1):\n",
    "            if (1 << i) & v:\n",
    "                tmp[i] = min([dist[i+1][j+1] + memo[v | (1 << j)][j] for j in range(n1) if not (1 << j) & v])\n",
    "        memo[v] = tmp\n",
    "    return min([dist[i+1][0] + memo[1 << i][i] for i in range(n1)])"
   ]
  },
  {
   "cell_type": "code",
   "execution_count": 52,
   "metadata": {
    "ExecuteTime": {
     "end_time": "2019-04-26T16:32:25.566431Z",
     "start_time": "2019-04-26T16:32:25.561612Z"
    }
   },
   "outputs": [
    {
     "ename": "NameError",
     "evalue": "name 'n' is not defined",
     "output_type": "error",
     "traceback": [
      "\u001b[0;31m---------------------------------------------------------------------------\u001b[0m",
      "\u001b[0;31mNameError\u001b[0m                                 Traceback (most recent call last)",
      "\u001b[0;32m<ipython-input-52-61f918589651>\u001b[0m in \u001b[0;36m<module>\u001b[0;34m()\u001b[0m\n\u001b[0;32m----> 1\u001b[0;31m \u001b[0mtsp_dp\u001b[0m\u001b[0;34m(\u001b[0m\u001b[0mn\u001b[0m\u001b[0;34m)\u001b[0m\u001b[0;34m\u001b[0m\u001b[0m\n\u001b[0m",
      "\u001b[0;31mNameError\u001b[0m: name 'n' is not defined"
     ]
    }
   ],
   "source": [
    "tsp_dp(n)"
   ]
  },
  {
   "cell_type": "code",
   "execution_count": null,
   "metadata": {},
   "outputs": [],
   "source": []
  }
 ],
 "metadata": {
  "_draft": {
   "nbviewer_url": "https://gist.github.com/ec08a87afc42262962dace9e41457ec8"
  },
  "gist": {
   "data": {
    "description": "Jupyters/KAGGLE/TSP/TSP_DP.ipynb",
    "public": false
   },
   "id": "ec08a87afc42262962dace9e41457ec8"
  },
  "kernelspec": {
   "display_name": "py36",
   "language": "python",
   "name": "py36"
  },
  "language_info": {
   "codemirror_mode": {
    "name": "ipython",
    "version": 3
   },
   "file_extension": ".py",
   "mimetype": "text/x-python",
   "name": "python",
   "nbconvert_exporter": "python",
   "pygments_lexer": "ipython3",
   "version": "3.6.4"
  }
 },
 "nbformat": 4,
 "nbformat_minor": 2
}
