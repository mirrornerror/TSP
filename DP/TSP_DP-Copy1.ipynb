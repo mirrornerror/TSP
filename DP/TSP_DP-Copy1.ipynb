{
 "cells": [
  {
   "cell_type": "markdown",
   "metadata": {},
   "source": [
    "# DP: dynamic programming"
   ]
  },
  {
   "cell_type": "code",
   "execution_count": 142,
   "metadata": {
    "ExecuteTime": {
     "end_time": "2019-03-18T09:16:35.580102Z",
     "start_time": "2019-03-18T09:16:33.211992Z"
    }
   },
   "outputs": [
    {
     "name": "stdout",
     "output_type": "stream",
     "text": [
      "CPU times: user 2.36 s, sys: 0 ns, total: 2.36 s\n",
      "Wall time: 2.36 s\n"
     ]
    },
    {
     "data": {
      "text/plain": [
       "9227465"
      ]
     },
     "execution_count": 142,
     "metadata": {},
     "output_type": "execute_result"
    }
   ],
   "source": [
    "# simple fibonacci\n",
    "def fib(n):\n",
    "    if n < 2:\n",
    "        return n\n",
    "    else:\n",
    "        return fib(n-2) + fib(n-1)\n",
    "\n",
    "%time fib(35)"
   ]
  },
  {
   "cell_type": "code",
   "execution_count": 128,
   "metadata": {
    "ExecuteTime": {
     "end_time": "2019-03-18T09:10:09.574246Z",
     "start_time": "2019-03-18T09:10:09.563149Z"
    }
   },
   "outputs": [
    {
     "name": "stdout",
     "output_type": "stream",
     "text": [
      "CPU times: user 698 µs, sys: 9 µs, total: 707 µs\n",
      "Wall time: 714 µs\n"
     ]
    },
    {
     "data": {
      "text/plain": [
       "43466557686937456435688527675040625802564660517371780402481729089536555417949051890403879840079255169295922593080322634775209689623239873322471161642996440906533187938298969649928516003704476137795166849228875"
      ]
     },
     "execution_count": 128,
     "metadata": {},
     "output_type": "execute_result"
    }
   ],
   "source": [
    "# fibonacci with cache \n",
    "cache = {}\n",
    "def fib_cache(n):\n",
    "    if n in cache:\n",
    "        return cache[n]\n",
    "    if n < 2:\n",
    "        value = n\n",
    "    else:\n",
    "        value = fib_cache(n-1) + fib_cache(n-2)\n",
    "    cache[n] = value\n",
    "    return value\n",
    "\n",
    "%time fib_cache(1000)"
   ]
  },
  {
   "cell_type": "code",
   "execution_count": 132,
   "metadata": {
    "ExecuteTime": {
     "end_time": "2019-03-18T09:11:05.197938Z",
     "start_time": "2019-03-18T09:11:05.188222Z"
    }
   },
   "outputs": [
    {
     "name": "stdout",
     "output_type": "stream",
     "text": [
      "CPU times: user 146 µs, sys: 2 µs, total: 148 µs\n",
      "Wall time: 151 µs\n"
     ]
    },
    {
     "data": {
      "text/plain": [
       "43466557686937456435688527675040625802564660517371780402481729089536555417949051890403879840079255169295922593080322634775209689623239873322471161642996440906533187938298969649928516003704476137795166849228875"
      ]
     },
     "execution_count": 132,
     "metadata": {},
     "output_type": "execute_result"
    }
   ],
   "source": [
    "def fib(n):\n",
    "    memo = [0] * (n+1)\n",
    "    for i in range(n+1):\n",
    "        if i < 2:\n",
    "            memo[i] = i\n",
    "        else:\n",
    "            memo[i] = memo[i-1] + memo[i-2]\n",
    "    return memo[-1]\n",
    "\n",
    "%time s = fib(1000)\n",
    "s"
   ]
  },
  {
   "cell_type": "code",
   "execution_count": 131,
   "metadata": {
    "ExecuteTime": {
     "end_time": "2019-03-18T09:10:40.214950Z",
     "start_time": "2019-03-18T09:10:40.203450Z"
    }
   },
   "outputs": [
    {
     "name": "stdout",
     "output_type": "stream",
     "text": [
      "CPU times: user 192 µs, sys: 0 ns, total: 192 µs\n",
      "Wall time: 194 µs\n"
     ]
    },
    {
     "data": {
      "text/plain": [
       "43466557686937456435688527675040625802564660517371780402481729089536555417949051890403879840079255169295922593080322634775209689623239873322471161642996440906533187938298969649928516003704476137795166849228875"
      ]
     },
     "execution_count": 131,
     "metadata": {},
     "output_type": "execute_result"
    }
   ],
   "source": [
    "def fib(n):\n",
    "    memo = []\n",
    "    for i in range(n+1):\n",
    "        if i < 2:\n",
    "            memo.append(i)\n",
    "        else:\n",
    "            memo.append(memo[i-1] + memo[i-2])\n",
    "    return memo[-1]\n",
    "\n",
    "%time s = fib(1000)\n",
    "s"
   ]
  },
  {
   "cell_type": "code",
   "execution_count": 77,
   "metadata": {
    "ExecuteTime": {
     "end_time": "2019-03-18T06:28:48.049711Z",
     "start_time": "2019-03-18T06:28:48.039439Z"
    }
   },
   "outputs": [
    {
     "name": "stdout",
     "output_type": "stream",
     "text": [
      "CPU times: user 46 µs, sys: 0 ns, total: 46 µs\n",
      "Wall time: 49.4 µs\n"
     ]
    },
    {
     "data": {
      "text/plain": [
       "354224848179261915075"
      ]
     },
     "execution_count": 77,
     "metadata": {},
     "output_type": "execute_result"
    }
   ],
   "source": [
    "# fibonacci with functool\n",
    "from functools import lru_cache\n",
    "\n",
    "@lru_cache(maxsize=1000)\n",
    "def fib(n):\n",
    "    if n < 2:\n",
    "        return n\n",
    "    else:\n",
    "        return fib(n-1) + fib(n-2)\n",
    "\n",
    "%time fib(100)"
   ]
  },
  {
   "cell_type": "code",
   "execution_count": 25,
   "metadata": {
    "ExecuteTime": {
     "end_time": "2019-03-18T02:33:56.874343Z",
     "start_time": "2019-03-18T02:33:56.861987Z"
    }
   },
   "outputs": [
    {
     "name": "stdout",
     "output_type": "stream",
     "text": [
      "CPU times: user 18 µs, sys: 0 ns, total: 18 µs\n",
      "Wall time: 20.7 µs\n"
     ]
    },
    {
     "data": {
      "text/plain": [
       "102334155"
      ]
     },
     "execution_count": 25,
     "metadata": {},
     "output_type": "execute_result"
    }
   ],
   "source": []
  },
  {
   "cell_type": "code",
   "execution_count": 43,
   "metadata": {
    "ExecuteTime": {
     "end_time": "2019-03-14T08:17:50.263054Z",
     "start_time": "2019-03-14T08:17:50.259352Z"
    }
   },
   "outputs": [],
   "source": [
    "def memoize(f):\n",
    "    cache = {}\n",
    "    return lambda *x: cache[x] if x in cache else cache.setdefault(x, f(*x))"
   ]
  },
  {
   "cell_type": "code",
   "execution_count": 143,
   "metadata": {
    "ExecuteTime": {
     "end_time": "2019-03-18T14:59:36.958925Z",
     "start_time": "2019-03-18T14:59:36.943651Z"
    }
   },
   "outputs": [
    {
     "name": "stdout",
     "output_type": "stream",
     "text": [
      "CPU times: user 779 µs, sys: 13 µs, total: 792 µs\n",
      "Wall time: 797 µs\n"
     ]
    },
    {
     "data": {
      "text/plain": [
       "43466557686937456435688527675040625802564660517371780402481729089536555417949051890403879840079255169295922593080322634775209689623239873322471161642996440906533187938298969649928516003704476137795166849228875"
      ]
     },
     "execution_count": 143,
     "metadata": {},
     "output_type": "execute_result"
    }
   ],
   "source": [
    "def memoize(f):\n",
    "    table = {}\n",
    "    def func(*args):\n",
    "        if not args in table:\n",
    "            table[args] = f(*args)\n",
    "        return table[args]\n",
    "    return func\n",
    "\n",
    "@memoize\n",
    "def mem_fib(n):\n",
    "    if n <= 2:\n",
    "        return 1\n",
    "    else:\n",
    "        return mem_fib(n-2) + mem_fib(n-1)\n",
    "\n",
    "%time mem_fib(1000)"
   ]
  },
  {
   "cell_type": "code",
   "execution_count": 7,
   "metadata": {
    "ExecuteTime": {
     "end_time": "2019-04-21T05:03:41.279092Z",
     "start_time": "2019-04-21T05:03:41.102301Z"
    },
    "code_folding": [
     0,
     7
    ]
   },
   "outputs": [],
   "source": [
    "import numpy as np\n",
    "import matplotlib.pyplot as plt\n",
    "\n",
    "def gen_path(num):\n",
    "    path = np.concatenate([np.arange(num), [0]])\n",
    "    X = np.random.random(num)\n",
    "    Y = np.random.random(num)\n",
    "    XY = X + Y * 1j\n",
    "    return num, path, X, Y, XY\n",
    "\n",
    "def plot_list(path, plist=False, size=6):\n",
    "    plt.figure(figsize=(size, size))\n",
    "    cmap = plt.get_cmap(\"tab10\")\n",
    "    plt.axis([0,1,0,1], 'equal')\n",
    "    plt.plot(X[path], Y[path], alpha=0.5)\n",
    "    plt.scatter(X[0], Y[0], s=80, c='r', marker='o')\n",
    "    plt.scatter(X[1:], Y[1:], s=40, c=cmap(0), marker='o')\n",
    "    if plist:\n",
    "        for p in plist:\n",
    "            plt.plot(X[p], Y[p])\n",
    "    for i in range(num):\n",
    "        plt.text(X[i], Y[i]+0.01, s=i, fontsize=10, color='gray')"
   ]
  },
  {
   "cell_type": "code",
   "execution_count": 8,
   "metadata": {
    "ExecuteTime": {
     "end_time": "2019-04-21T05:03:42.635959Z",
     "start_time": "2019-04-21T05:03:42.524662Z"
    }
   },
   "outputs": [
    {
     "data": {
      "image/png": "[encoded data removed]",
      "text/plain": [
       "<matplotlib.figure.Figure at 0x7f65f581b470>"
      ]
     },
     "metadata": {},
     "output_type": "display_data"
    }
   ],
   "source": [
    "num, tour, X, Y, XY = gen_path(10)\n",
    "plot_list(tour)"
   ]
  },
  {
   "cell_type": "code",
   "execution_count": null,
   "metadata": {},
   "outputs": [],
   "source": [
    "def tsp(p, v):\n",
    "    if (1 << point_size) - 1 == v:\n",
    "        return distance_table[p][0]\n",
    "    else:\n",
    "        return min([distance_table[p][x] + tsp(x, v | (1 << x)) for x in range(point_size) if not (v & (1 << x))])"
   ]
  },
  {
   "cell_type": "code",
   "execution_count": 38,
   "metadata": {
    "ExecuteTime": {
     "end_time": "2019-03-03T13:51:06.245230Z",
     "start_time": "2019-03-03T13:51:06.241791Z"
    }
   },
   "outputs": [
    {
     "data": {
      "text/plain": [
       "'0b11'"
      ]
     },
     "execution_count": 38,
     "metadata": {},
     "output_type": "execute_result"
    }
   ],
   "source": [
    "def tsp(p, v):\n",
    "    if (1 << point_size) - 1 == v:\n",
    "        return distance_table[p][0]\n",
    "    else:\n",
    "        for x in range(point_size):\n",
    "            if not (v & (1 << x)):\n",
    "                distance_table[p][x] + tsp(x, v | (1 << x))\n",
    "        min_val = \n",
    "        return min([distance_table[p][x] + tsp(x, v | (1 << x)) for x in range(point_size) if not (v & (1 << x))])"
   ]
  },
  {
   "cell_type": "code",
   "execution_count": 2,
   "metadata": {
    "ExecuteTime": {
     "end_time": "2019-04-21T04:58:33.033684Z",
     "start_time": "2019-04-21T04:58:33.022289Z"
    }
   },
   "outputs": [
    {
     "data": {
      "text/plain": [
       "1"
      ]
     },
     "execution_count": 2,
     "metadata": {},
     "output_type": "execute_result"
    }
   ],
   "source": []
  },
  {
   "cell_type": "code",
   "execution_count": 45,
   "metadata": {
    "ExecuteTime": {
     "end_time": "2019-03-03T13:53:53.698622Z",
     "start_time": "2019-03-03T13:53:53.692160Z"
    }
   },
   "outputs": [
    {
     "data": {
      "text/plain": [
       "[(0, 1, 2, 3)]"
      ]
     },
     "execution_count": 45,
     "metadata": {},
     "output_type": "execute_result"
    }
   ],
   "source": [
    "list(combinations(list(range(4)),4))"
   ]
  },
  {
   "cell_type": "code",
   "execution_count": 47,
   "metadata": {
    "ExecuteTime": {
     "end_time": "2019-03-03T13:55:59.208259Z",
     "start_time": "2019-03-03T13:55:59.202560Z"
    }
   },
   "outputs": [
    {
     "data": {
      "text/plain": [
       "'0b10000'"
      ]
     },
     "execution_count": 47,
     "metadata": {},
     "output_type": "execute_result"
    }
   ],
   "source": [
    "bin(1 << 4)"
   ]
  },
  {
   "cell_type": "code",
   "execution_count": 50,
   "metadata": {
    "ExecuteTime": {
     "end_time": "2019-03-04T19:27:31.509742Z",
     "start_time": "2019-03-04T19:27:31.502227Z"
    }
   },
   "outputs": [
    {
     "name": "stdout",
     "output_type": "stream",
     "text": [
      "[0, 1, 2, 3, 4]\n",
      "[0, 1, 2, 3]\n",
      "[0, 1, 2]\n",
      "[0, 1]\n",
      "[0]\n"
     ]
    }
   ],
   "source": [
    "L = list(range(5))\n",
    "D = []\n",
    "def dp(List):\n",
    "    if len(List) == 0: \n",
    "        return List\n",
    "    print(List)\n",
    "    List.pop()\n",
    "    dp(List)\n",
    "\n",
    "dp(L)"
   ]
  },
  {
   "cell_type": "code",
   "execution_count": 49,
   "metadata": {
    "ExecuteTime": {
     "end_time": "2019-03-04T17:39:34.009578Z",
     "start_time": "2019-03-04T17:39:34.004870Z"
    }
   },
   "outputs": [
    {
     "name": "stdout",
     "output_type": "stream",
     "text": [
      "0\n",
      "1\n",
      "2\n",
      "4\n"
     ]
    }
   ],
   "source": [
    "for i in range(5):\n",
    "    if i == 3:\n",
    "        continue\n",
    "    print(i)"
   ]
  },
  {
   "cell_type": "code",
   "execution_count": null,
   "metadata": {},
   "outputs": [],
   "source": []
  }
 ],
 "metadata": {
  "kernelspec": {
   "display_name": "py36",
   "language": "python",
   "name": "py36"
  },
  "language_info": {
   "codemirror_mode": {
    "name": "ipython",
    "version": 3
   },
   "file_extension": ".py",
   "mimetype": "text/x-python",
   "name": "python",
   "nbconvert_exporter": "python",
   "pygments_lexer": "ipython3",
   "version": "3.6.4"
  }
 },
 "nbformat": 4,
 "nbformat_minor": 2
}
