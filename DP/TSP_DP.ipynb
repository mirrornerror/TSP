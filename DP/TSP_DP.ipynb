{
 "cells": [
  {
   "cell_type": "markdown",
   "metadata": {},
   "source": [
    "# TSP DP:  \n",
    "### Travelling Salesman Problem with Dynamic Programming"
   ]
  },
  {
   "cell_type": "markdown",
   "metadata": {},
   "source": [
    "### Import Libraries"
   ]
  },
  {
   "cell_type": "code",
   "execution_count": 1,
   "metadata": {
    "ExecuteTime": {
     "end_time": "2019-05-19T19:29:32.935612Z",
     "start_time": "2019-05-19T19:29:32.261496Z"
    }
   },
   "outputs": [],
   "source": [
    "import numpy as np\n",
    "import matplotlib.pyplot as plt\n",
    "seed = 42\n",
    "np.random.seed(seed=seed)\n",
    "%matplotlib inline"
   ]
  },
  {
   "cell_type": "markdown",
   "metadata": {},
   "source": [
    "### Generate Parameters"
   ]
  },
  {
   "cell_type": "code",
   "execution_count": 2,
   "metadata": {
    "ExecuteTime": {
     "end_time": "2019-05-19T19:29:33.502700Z",
     "start_time": "2019-05-19T19:29:33.495523Z"
    }
   },
   "outputs": [],
   "source": [
    "def gen_param(num):\n",
    "    path = list(range(num)) + [0]\n",
    "    X, Y= np.random.random([2, num])\n",
    "    XY = X + Y * 1j\n",
    "    S = set(list(range(num)))\n",
    "    return num, path, X, Y, XY, S"
   ]
  },
  {
   "cell_type": "markdown",
   "metadata": {},
   "source": [
    "### Plot Path"
   ]
  },
  {
   "cell_type": "code",
   "execution_count": 3,
   "metadata": {
    "ExecuteTime": {
     "end_time": "2019-05-19T19:29:36.965125Z",
     "start_time": "2019-05-19T19:29:36.945044Z"
    }
   },
   "outputs": [],
   "source": [
    "def plot_path(path, size=6):\n",
    "    plt.figure(figsize=(size, size))\n",
    "    cmap = plt.get_cmap(\"tab10\")\n",
    "    plt.axis('equal')\n",
    "    plt.plot(X[path], Y[path], alpha=0.0)\n",
    "    plt.scatter(X[0], Y[0], s=80, c='r', marker='o')\n",
    "    for i in range(len(path)-1):\n",
    "        plt.arrow(X[path[i]], Y[path[i]], \n",
    "                  X[path[i+1]]-X[path[i]], Y[path[i+1]]-Y[path[i]], \n",
    "                  head_width=0.02, head_length=0.02, length_includes_head=True, \n",
    "                  fc=cmap(0), ec=cmap(0))\n",
    "    \n",
    "    for i in range(num):\n",
    "        plt.text(X[i], Y[i]+0.01, s=i, fontsize=10, color='gray')"
   ]
  },
  {
   "cell_type": "markdown",
   "metadata": {},
   "source": [
    "### Distance Matrix"
   ]
  },
  {
   "cell_type": "code",
   "execution_count": 4,
   "metadata": {
    "ExecuteTime": {
     "end_time": "2019-05-19T19:29:38.270407Z",
     "start_time": "2019-05-19T19:29:38.263475Z"
    }
   },
   "outputs": [],
   "source": [
    "def dist_mx(num):\n",
    "    mx = []\n",
    "    for i in range(num):\n",
    "        mx.append([])\n",
    "        for j in range(num):\n",
    "            mx[i].append(abs(XY[i] - XY[j]))\n",
    "    return mx"
   ]
  },
  {
   "cell_type": "markdown",
   "metadata": {
    "ExecuteTime": {
     "end_time": "2019-05-19T01:03:29.351856Z",
     "start_time": "2019-05-19T01:03:29.349122Z"
    }
   },
   "source": [
    "## TSP without DP (Slow)\n",
    "10 nodes: 0.97 sec  \n",
    "11 nodes: 9.49 sec"
   ]
  },
  {
   "cell_type": "code",
   "execution_count": 221,
   "metadata": {
    "ExecuteTime": {
     "end_time": "2019-05-20T03:36:16.739187Z",
     "start_time": "2019-05-20T03:36:16.734339Z"
    }
   },
   "outputs": [],
   "source": [
    "# Generate new parameters\n",
    "num, path, X, Y, XY, S = gen_param(11)\n",
    "dist = dist_mx(num)"
   ]
  },
  {
   "cell_type": "code",
   "execution_count": 222,
   "metadata": {
    "ExecuteTime": {
     "end_time": "2019-05-20T03:36:31.823966Z",
     "start_time": "2019-05-20T03:36:22.557134Z"
    }
   },
   "outputs": [
    {
     "name": "stdout",
     "output_type": "stream",
     "text": [
      "Total Distance: 2.834259735803878\n",
      "CPU times: user 9.23 s, sys: 9.97 ms, total: 9.24 s\n",
      "Wall time: 9.25 s\n"
     ]
    }
   ],
   "source": [
    "def TSP(a, S, b):\n",
    "    if len(S) == 0:\n",
    "        return dist[a][b]\n",
    "\n",
    "    d_min = float('inf')\n",
    "    for s in S - {a}:\n",
    "        d = dist[a][s] + TSP(s, S - {a, s}, b)\n",
    "        if d < d_min:\n",
    "            d_min = d\n",
    "\n",
    "    return d_min\n",
    "\n",
    "%time print('Total Distance:', TSP(0, S, 0))"
   ]
  },
  {
   "cell_type": "markdown",
   "metadata": {},
   "source": [
    "## TSP DP with memo (Faster)\n",
    "10 nodes: 34.5 ms  \n",
    "11 nodes: 65.3 ms"
   ]
  },
  {
   "cell_type": "code",
   "execution_count": 223,
   "metadata": {
    "ExecuteTime": {
     "end_time": "2019-05-20T03:36:36.347015Z",
     "start_time": "2019-05-20T03:36:36.195167Z"
    },
    "scrolled": false
   },
   "outputs": [
    {
     "name": "stdout",
     "output_type": "stream",
     "text": [
      "Total Distance: 2.834259735803878\n",
      "CPU times: user 90.2 ms, sys: 3.44 ms, total: 93.6 ms\n",
      "Wall time: 102 ms\n"
     ]
    }
   ],
   "source": [
    "memo = {}\n",
    "\n",
    "def TSP_DP(a, S, b):\n",
    "    if len(S) == 0:\n",
    "        memo[(a, tuple(S - {a}), b)] = dist[a][b]\n",
    "        return dist[a][b]\n",
    "\n",
    "    d_min = float('inf')\n",
    "    for s in S - {a}:\n",
    "        if (s, tuple(S - {a, s}), b) not in memo:\n",
    "            memo[(s, tuple(S - {a, s}), b)] = TSP_DP(s, S - {a, s}, b)\n",
    "        d = dist[a][s] + memo[(s, tuple(S - {a, s}), b)]  \n",
    "        if d < d_min:\n",
    "            d_min = d\n",
    "\n",
    "    return d_min\n",
    "\n",
    "%time print('Total Distance:', TSP_DP(0, S, 0))"
   ]
  },
  {
   "cell_type": "code",
   "execution_count": 224,
   "metadata": {
    "ExecuteTime": {
     "end_time": "2019-05-20T03:36:43.647613Z",
     "start_time": "2019-05-20T03:36:43.550302Z"
    }
   },
   "outputs": [
    {
     "name": "stdout",
     "output_type": "stream",
     "text": [
      "Total Distance: 2.834259735803878\n",
      "CPU times: user 72.4 ms, sys: 3.42 ms, total: 75.8 ms\n",
      "Wall time: 75 ms\n"
     ]
    }
   ],
   "source": [
    "# another memoization option\n",
    "memo = {}\n",
    "\n",
    "def TSP_DP(a, S, b):\n",
    "    S = S - {a}\n",
    "    if len(S) == 0:\n",
    "        memo[(a, tuple(S), b)] = dist[a][b]\n",
    "        return dist[a][b]\n",
    "    \n",
    "    if (a, tuple(S), b) in memo:\n",
    "        return memo[(a, tuple(S), b)]\n",
    "    \n",
    "    d_min = min([dist[a][s] +  TSP_DP(s, S - {s}, b) for s in S])\n",
    "    memo[(a, tuple(S), b)] = d_min\n",
    "\n",
    "    return d_min\n",
    "\n",
    "%time print('Total Distance:', TSP_DP(0, S, 0))"
   ]
  },
  {
   "cell_type": "markdown",
   "metadata": {
    "ExecuteTime": {
     "end_time": "2019-05-19T01:05:03.958125Z",
     "start_time": "2019-05-19T01:05:03.955156Z"
    }
   },
   "source": [
    "## Generate Tour"
   ]
  },
  {
   "cell_type": "code",
   "execution_count": 218,
   "metadata": {
    "ExecuteTime": {
     "end_time": "2019-05-20T03:04:00.448316Z",
     "start_time": "2019-05-20T03:03:59.080476Z"
    }
   },
   "outputs": [
    {
     "name": "stdout",
     "output_type": "stream",
     "text": [
      "Tour: [0, 8, 10, 5, 15, 11, 4, 13, 12, 7, 3, 6, 2, 9, 14, 1, 0]\n"
     ]
    },
    {
     "data": {
      "image/png": "[encoded data removed]",
      "text/plain": [
       "<matplotlib.figure.Figure at 0x112eab470>"
      ]
     },
     "metadata": {},
     "output_type": "display_data"
    }
   ],
   "source": [
    "P = [0]  # starting from to \"0\"\n",
    "\n",
    "for i in range(num - 2, -1, -1):\n",
    "    d_min = np.inf\n",
    "    p_min = None\n",
    "    for m in memo:\n",
    "        if len(m[1]) == i and  set(P) | {m[0]} | set(m[1]) == S:\n",
    "            d = dist[P[-1]][m[0]] + memo[m]\n",
    "            if d < d_min:\n",
    "                d_min = d\n",
    "                p_min = m[0]\n",
    "    P.append(p_min)\n",
    "\n",
    "print('Tour:', P + [0])\n",
    "plot_path(P + [0])"
   ]
  },
  {
   "cell_type": "markdown",
   "metadata": {},
   "source": [
    "## Solution:  \n",
    "#### Example:\n",
    "<pre>\n",
    "S = {0, 1, 2, 3}\n",
    "\n",
    "TSP(0, {1, 2, 3}, 0) = min(dist[0][1] + TSP(1, {2, 3}, 0), \n",
    "                           dist[0][2] + TSP(2, {1, 3}, 0),\n",
    "                           dist[0][3] + TSP(3, {1, 2}, 0))\n",
    "\n",
    "TSP(1, {2, 3}, 0)    = min(dist[1][2] + TSP(2, {3}, 0), \n",
    "                           dist[1][3] + TSP(3, {2}, 0))\n",
    "TSP(2, {1, 3}, 0)    = min(dist[2][1] + TSP(1, {3}, 0), \n",
    "                           dist[2][3] + TSP(3, {1}, 0))\n",
    "TSP(3, {1, 2}, 0)    = min(dist[3][1] + TSP(1, {2}, 0), \n",
    "                           dist[3][2] + TSP(2, {1}, 0))\n",
    "\n",
    "TSP(2, {3}, 0)       = min(dist[2][3] + TSP(3, {}, 0))\n",
    "TSP(3, {2}, 0)       = min(dist[3][2] + TSP(2, {}, 0))\n",
    "TSP(1, {3}, 0)       = min(dist[1][3] + TSP(3, {}, 0))\n",
    "TSP(3, {1}, 0)       = min(dist[3][1] + TSP(1, {}, 0))\n",
    "TSP(1, {2}, 0)       = min(dist[1][2] + TSP(2, {}, 0))\n",
    "TSP(2, {1}, 0)       = min(dist[2][1] + TSP(1, {}, 0))\n",
    "\n",
    "TSP(1, {}, 0))       = dist[1][0]\n",
    "TSP(2, {}, 0))       = dist[2][0]\n",
    "TSP(3, {}, 0))       = dist[3][0]\n",
    "</pre>"
   ]
  },
  {
   "cell_type": "markdown",
   "metadata": {
    "ExecuteTime": {
     "end_time": "2019-05-19T02:00:15.847443Z",
     "start_time": "2019-05-19T02:00:15.844253Z"
    }
   },
   "source": [
    "## TSP Bit-DP with memoization"
   ]
  },
  {
   "cell_type": "code",
   "execution_count": 219,
   "metadata": {
    "ExecuteTime": {
     "end_time": "2019-05-20T03:04:10.077484Z",
     "start_time": "2019-05-20T03:04:08.120191Z"
    }
   },
   "outputs": [
    {
     "name": "stdout",
     "output_type": "stream",
     "text": [
      "Total Length: 3.766406692306571\n",
      "CPU times: user 1.9 s, sys: 23.2 ms, total: 1.92 s\n",
      "Wall time: 1.93 s\n"
     ]
    }
   ],
   "source": [
    "def memoize(f):\n",
    "    cache = {}\n",
    "    def func(*args):\n",
    "        if not args in cache:\n",
    "            cache[args] = f(*args)\n",
    "        return cache[args]\n",
    "    return func\n",
    "\n",
    "@memoize\n",
    "def TSP_BitDP(pos, visited):\n",
    "    if (1 << num) - 1 == visited: # if all visited\n",
    "        return dist[pos][0]\n",
    "    \n",
    "    d_min = np.inf\n",
    "    for i in range(num):\n",
    "        if (visited & (1 << i)) == 0: # if not visited\n",
    "            d = dist[pos][i] + TSP_BitDP(i, visited | (1 << i))\n",
    "            if d < d_min:\n",
    "                d_min = d\n",
    "    return d_min\n",
    "\n",
    "%time print('Total Length:', TSP_BitDP(0, 1))"
   ]
  },
  {
   "cell_type": "code",
   "execution_count": null,
   "metadata": {},
   "outputs": [],
   "source": []
  }
 ],
 "metadata": {
  "_draft": {
   "nbviewer_url": "https://gist.github.com/f9f0169ca72cc48711e96fc8666740ca"
  },
  "gist": {
   "data": {
    "description": "TSP DP",
    "public": true
   },
   "id": "f9f0169ca72cc48711e96fc8666740ca"
  },
  "kernelspec": {
   "display_name": "py36",
   "language": "python",
   "name": "py36"
  },
  "language_info": {
   "codemirror_mode": {
    "name": "ipython",
    "version": 3
   },
   "file_extension": ".py",
   "mimetype": "text/x-python",
   "name": "python",
   "nbconvert_exporter": "python",
   "pygments_lexer": "ipython3",
   "version": "3.6.4"
  }
 },
 "nbformat": 4,
 "nbformat_minor": 2
}
